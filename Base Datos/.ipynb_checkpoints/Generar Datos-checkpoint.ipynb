{
 "cells": [
  {
   "cell_type": "code",
   "execution_count": 2,
   "metadata": {},
   "outputs": [],
   "source": [
    "import random as rd"
   ]
  },
  {
   "cell_type": "code",
   "execution_count": 61,
   "metadata": {},
   "outputs": [],
   "source": [
    "M = [\"Josue\",\"Axel\",\"Xavier\",\"Erick\",\"Bryan\",\"Jose\",\"Ariel\",\"Juan\",\"Jefferson\",\"Raul\",\"Carlos\",\"Luis\",\"Renato\",\"Geogy\",\"Jonathan\"]\n",
    "F = [\"Domenica\",\"Paulette\",\"Jocelyne\",\"Mara\",\"Tamara\",\"Crithina\",\"Zoila\",\"Mariuxi\",\"Xiomara\",\"Milena\",\"Melany\",\"Dayana\",\"Katalina\",\"Diana\",\"Ana\"] \n",
    "apellidos = [\"Sanzhez\",\"Mera\",\"Davalos\",\"Piero\",\"Pulla\",\"Vera\",\"Cordova\",\"Carrera\",\"Bonilla\",\"Vazquez\",\"Morena\",\"Figueroa\",\"Flores\",\"Bermudez\",\"Jacho\",\"Cedeño\",\"Tobar\"]\n",
    "nombres = M+F\n",
    "dominios = [\"@hotmail.com\",\"@outlook.es\",\"@gmail.com\",\"@hotmail.es\",\"@espol.edu.ec\"]\n",
    "direcciones = [\"Av. Diego de Almagro N31-95\",\"Av. 9 de Octubre N 27-75 y Berlín\",\"Av. Amazonas N40-71\",\"Estación de Comprobación Técnica Vía Chambo Km 2\",\n",
    "             \"Ciudadela California, calle Chone, entre Junín y Santa Ana\",\"Cdla. IETEL, Mz 28 lote 1\",\"Calle Luis Cordero 16-50 y Av. Héroes de Verdeloma\",\n",
    "             \"Turi, sector Collaloma vía Turi-Tarqui\",\"Av. Circunvalación y Av. Río Aguarico\",\"Av. 9 de Octubre N27-75 y Berlín\"]\n",
    "letras = [\"a\",\"b\",\"c\",\"d\",\"e\",\"f\",\"g\",\"h\",\"i\",\"j\",\"k\",\"l\",\"m\",\"n\",\"o\",\"p\",\"q\",\"r\",\"s\",\"t\",\"u\",\"v\",\"w\",\"x\",\"y\",\"z\"]"
   ]
  },
  {
   "cell_type": "code",
   "execution_count": 74,
   "metadata": {},
   "outputs": [],
   "source": [
    "def cedula():\n",
    "    ced = '\"0'\n",
    "    for i in range(9):\n",
    "        ced += str(rd.randint(0,9))\n",
    "    return ced+'\"'\n",
    "\n",
    "def persona():\n",
    "    l = ['\"'+rd.choice(nombres)+'\"']\n",
    "    \n",
    "    apellido = []\n",
    "    for i in range(rd.randint(1,2)):\n",
    "        apellido.append(rd.choice(apellidos))\n",
    "    l.append('\"'+\" \".join(apellido)+'\"')\n",
    "    \n",
    "    if l[0] in M:\n",
    "        l.append('\"'+\"M\"+'\"')\n",
    "    else:\n",
    "        l.append('\"'+\"F\"+'\"')\n",
    "    return \",\".join(l)\n",
    "        \n",
    "        \n",
    "def generarDatos( n):\n",
    "    s = \"insert into JefeBodega(cedula, nombre, apellido, genero) values (\"\n",
    "    l = []\n",
    "    for i in range(n):\n",
    "        ced = cedula()\n",
    "        p = persona()\n",
    "        l.append(s + ced+\",\"+p+\");\")\n",
    "    return \"\\n\".join(l)\n",
    "\n",
    "def fecha():    \n",
    "    d = str(rd.randint(1,28))\n",
    "    m = str(rd.randint(1,12))\n",
    "    a = str(rd.randint(1970,2001))\n",
    "    \n",
    "    if len(d)==1:\n",
    "        d = \"0\"+d\n",
    "    if len(m)==1:\n",
    "        m=\"0\"+m\n",
    "    return '\"'+\"-\".join([a,m,d])+'\"'\n",
    "    \n",
    "    \n",
    "def correo():\n",
    "    c = '\"'\n",
    "    for i in range(rd.randint(4,8)):\n",
    "        c += rd.choice(letras)\n",
    "    return c+rd.choice(dominios)+'\"'\n",
    "\n",
    "def generarClientes(n):\n",
    "    s = \"insert into Cliente(cedula, nombre, apellido, genero, FechaNacimiento, correo, direccion, telefono) values (\"\n",
    "    l=[]\n",
    "    for i in range(n):\n",
    "        p = [s+cedula(),persona(),fecha(),correo(),'\"'+rd.choice(direcciones)+'\"\"',cedula()+\");\"]\n",
    "        l.append(\",\".join(p))\n",
    "    return \"\\n\".join(l)\n",
    "    \n",
    "    "
   ]
  },
  {
   "cell_type": "code",
   "execution_count": 52,
   "metadata": {
    "scrolled": true
   },
   "outputs": [
    {
     "name": "stdout",
     "output_type": "stream",
     "text": [
      "insert into JefeBodega(cedula, nombre, apellido, genero) values (\"0818942287\",\"Axel\",\"Jacho\",\"F\");\n",
      "insert into JefeBodega(cedula, nombre, apellido, genero) values (\"0235262528\",\"Josue\",\"Flores\",\"F\");\n",
      "insert into JefeBodega(cedula, nombre, apellido, genero) values (\"0882682352\",\"Jonathan\",\"Davalos Piero\",\"F\");\n",
      "insert into JefeBodega(cedula, nombre, apellido, genero) values (\"0195616417\",\"Jose\",\"Flores Bermudez\",\"F\");\n",
      "insert into JefeBodega(cedula, nombre, apellido, genero) values (\"0297395360\",\"Xavier\",\"Bonilla Jacho\",\"F\");\n",
      "insert into JefeBodega(cedula, nombre, apellido, genero) values (\"0394161414\",\"Ana\",\"Jacho Jacho\",\"F\");\n",
      "insert into JefeBodega(cedula, nombre, apellido, genero) values (\"0044903940\",\"Zoila\",\"Flores\",\"F\");\n",
      "insert into JefeBodega(cedula, nombre, apellido, genero) values (\"0496894938\",\"Jefferson\",\"Tobar Vazquez\",\"F\");\n",
      "insert into JefeBodega(cedula, nombre, apellido, genero) values (\"0536556713\",\"Erick\",\"Carrera\",\"F\");\n",
      "insert into JefeBodega(cedula, nombre, apellido, genero) values (\"0537855465\",\"Raul\",\"Tobar\",\"F\");\n"
     ]
    }
   ],
   "source": [
    "d =generarDatos(10)\n",
    "print(d)  "
   ]
  },
  {
   "cell_type": "code",
   "execution_count": 73,
   "metadata": {},
   "outputs": [
    {
     "name": "stdout",
     "output_type": "stream",
     "text": [
      "insert into Cliente(cedula, nombre, apellido, genero, FechaNacimiento, correo, direccion, telefono) values (\"0245698039\",\"Crithina\",\"Figueroa Cordova\",\"F\",\"1977-12-01\",\"cblp@hotmail.es\",\"Av. 9 de Octubre N27-75 y Berlín\",\"0964399835\");\n",
      "insert into Cliente(cedula, nombre, apellido, genero, FechaNacimiento, correo, direccion, telefono) values (\"0915727278\",\"Jefferson\",\"Pulla Davalos\",\"F\",\"1993-11-12\",\"yepmhq@outlook.es\",\"Ciudadela California, calle Chone, entre Junín y Santa Ana\",\"0675553839\");\n",
      "insert into Cliente(cedula, nombre, apellido, genero, FechaNacimiento, correo, direccion, telefono) values (\"0587833745\",\"Erick\",\"Cordova\",\"F\",\"2001-04-26\",\"xovig@hotmail.es\",\"Cdla. IETEL, Mz 28 lote 1\",\"0196385531\");\n",
      "insert into Cliente(cedula, nombre, apellido, genero, FechaNacimiento, correo, direccion, telefono) values (\"0993060662\",\"Milena\",\"Tobar\",\"F\",\"1987-02-20\",\"mpwqnwk@espol.edu.ec\",\"Av. 9 de Octubre N27-75 y Berlín\",\"0282984328\");\n",
      "insert into Cliente(cedula, nombre, apellido, genero, FechaNacimiento, correo, direccion, telefono) values (\"0982632889\",\"Paulette\",\"Vazquez\",\"F\",\"1996-06-16\",\"uzmgifbk@hotmail.es\",\"Av. Circunvalación y Av. Río Aguarico\",\"0088590572\");\n",
      "insert into Cliente(cedula, nombre, apellido, genero, FechaNacimiento, correo, direccion, telefono) values (\"0711672730\",\"Diana\",\"Pulla\",\"F\",\"1992-09-06\",\"oztwexpt@gmail.com\",\"Av. 9 de Octubre N 27-75 y Berlín\",\"0051389664\");\n",
      "insert into Cliente(cedula, nombre, apellido, genero, FechaNacimiento, correo, direccion, telefono) values (\"0542758891\",\"Renato\",\"Cedeño\",\"F\",\"1978-08-24\",\"vnqf@outlook.es\",\"Estación de Comprobación Técnica Vía Chambo Km 2\",\"0741783438\");\n",
      "insert into Cliente(cedula, nombre, apellido, genero, FechaNacimiento, correo, direccion, telefono) values (\"0848760370\",\"Raul\",\"Jacho Bonilla\",\"F\",\"1972-06-10\",\"rcdmzp@hotmail.com\",\"Av. 9 de Octubre N27-75 y Berlín\",\"0692525345\");\n",
      "insert into Cliente(cedula, nombre, apellido, genero, FechaNacimiento, correo, direccion, telefono) values (\"0091771707\",\"Diana\",\"Piero Vera\",\"F\",\"1991-01-21\",\"zbrvvr@outlook.es\",\"Av. 9 de Octubre N27-75 y Berlín\",\"0743250380\");\n",
      "insert into Cliente(cedula, nombre, apellido, genero, FechaNacimiento, correo, direccion, telefono) values (\"0313390456\",\"Carlos\",\"Mera Figueroa\",\"F\",\"1976-05-12\",\"lkuafyg@gmail.com\",\"Estación de Comprobación Técnica Vía Chambo Km 2\",\"0763305030\");\n"
     ]
    }
   ],
   "source": [
    "print(generarClientes(10))"
   ]
  },
  {
   "cell_type": "code",
   "execution_count": null,
   "metadata": {},
   "outputs": [],
   "source": []
  }
 ],
 "metadata": {
  "kernelspec": {
   "display_name": "Python 3",
   "language": "python",
   "name": "python3"
  },
  "language_info": {
   "codemirror_mode": {
    "name": "ipython",
    "version": 3
   },
   "file_extension": ".py",
   "mimetype": "text/x-python",
   "name": "python",
   "nbconvert_exporter": "python",
   "pygments_lexer": "ipython3",
   "version": "3.6.3"
  }
 },
 "nbformat": 4,
 "nbformat_minor": 2
}
